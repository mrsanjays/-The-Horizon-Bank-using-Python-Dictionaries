{
  "nbformat": 4,
  "nbformat_minor": 0,
  "metadata": {
    "colab": {
      "provenance": []
    },
    "kernelspec": {
      "name": "python3",
      "display_name": "Python 3"
    }
  },
  "cells": [
    {
      "cell_type": "markdown",
      "metadata": {
        "id": "UYmMpXkNw9I6"
      },
      "source": [
        "#The Horizon Bank - Python Dictionaries"
      ]
    },
    {
      "cell_type": "markdown",
      "metadata": {
        "id": "PaanjkTewd2U"
      },
      "source": [
        "---"
      ]
    },
    {
      "cell_type": "markdown",
      "metadata": {
        "id": "x9vfVAsbslya"
      },
      "source": [
        "### Context\n",
        "\n",
        "Decades before, most of the banks used to maintain the details of their customers in a record book or in an excel sheet in a computer. This is not so reliable as compared to today’s revolutionary growth of technology in almost all of the fields.\n",
        "\n",
        "There is also a negative side in today’s growth of technology i.e. the increasing cyber crimes all over the world.\n",
        "\n",
        "Do you know, in earlier days we need to stand in a long queue for hours in banks to deposit (a sum of money paid into a bank account) or withdraw (a sum of money withdrawn from a bank account) or to create a new bank account?\n",
        "But nowadays with the growth of technology, users can create and maintain their bank account or pay their electric bills, phone bills by sitting in their homes. All they need is a smartphone and internet.\n",
        "\n",
        "Now, a new bank called Horizon Bank decides to update their banking model from old excel sheets to the latest technology and require a sample project of a bank model. Let us help them in creating this bank application."
      ]
    },
    {
      "cell_type": "markdown",
      "metadata": {
        "id": "G9pdov_M0nzo"
      },
      "source": [
        "---"
      ]
    },
    {
      "cell_type": "markdown",
      "metadata": {
        "id": "2i36Yv3-MPY5"
      },
      "source": [
        "### Problem Statement \n",
        "\n",
        "## In this project, you have to write a computer program to create an interactive bank application for the Horizon Bank. The application must have two simple functionalities:\n",
        "\n",
        "1. Allow a customer to create a new bank account with their following personal details:\n",
        "\n",
        "   - Full name\n",
        "\n",
        "   - Permanent residential address\n",
        "\n",
        "   - Personal or residential phone number\n",
        "\n",
        "   - Valid government-issued identification \n",
        "\n",
        "   - Amount to be deposited to the account\n",
        "\n",
        "2. Allow an existing customer of the bank to \n",
        "\n",
        "   - Check their bank balance\n",
        "   \n",
        "   - Withdraw some amount from their account provided that the withdrawal amount is less than the available bank balance\n",
        "   \n",
        "   - Deposit some amount to their account\n"
      ]
    },
    {
      "cell_type": "markdown",
      "metadata": {
        "id": "Y9JYGh67SE1-"
      },
      "source": [
        "---"
      ]
    },
    {
      "cell_type": "markdown",
      "metadata": {
        "id": "d55HBFcBpENK"
      },
      "source": [
        "---"
      ]
    },
    {
      "cell_type": "markdown",
      "metadata": {
        "id": "toeLx5LJpIV-"
      },
      "source": [
        "### Project Requirements\n",
        "\n",
        "1. Create an empty dictionary and store it in the `cust_data` variable. Also, create a list holding the attributes to be filled by a customer. Store the list in the `new_user_attributes` variable.\n",
        "\n",
        "2. Create a function to add a new user to the 'cust_data' dictionary. Name the function as `new_user()`.\n",
        "\n",
        "3. Create a function to get the account details of an existing user from the `cust_data` dictionary. Name the function as `existing_user()`.\n",
        "\n",
        "4. Finally, create an infinite `while` loop to run the application.\n"
      ]
    },
    {
      "cell_type": "markdown",
      "metadata": {
        "id": "5JRlGIBRqCGl"
      },
      "source": [
        "---"
      ]
    },
    {
      "cell_type": "markdown",
      "metadata": {
        "id": "UCusTfW0tcxe"
      },
      "source": [
        "#### 1. Customer Data\n",
        "\n",
        "The data of all the customers needs to be stored in a Python dictionary. Let's call it `cust_data`. \n",
        "\n",
        "\n",
        "`['name', 'address', 'phone num', 'govt id', 'amount']`."
      ]
    },
    {
      "cell_type": "code",
      "metadata": {
        "id": "6RL71w3ntzcH"
      },
      "source": [
        "# Creating the empty 'cust_data' dictionary and the 'new_user_attributes' list.\n",
        "cust_data = {}\n",
        "new_user_attributes = ['name', 'address', 'phone num', 'govt id', 'amount']\n"
      ],
      "execution_count": 1,
      "outputs": []
    },
    {
      "cell_type": "markdown",
      "metadata": {
        "id": "RETr5Tv1JBls"
      },
      "source": [
        "---"
      ]
    },
    {
      "cell_type": "markdown",
      "metadata": {
        "id": "0_OEabQbGQcP"
      },
      "source": [
        "#### 2. Add New User\n",
        "\n",
        "Create a function to add a new user to the `cust_data` dictionary. Name the function as `new_user()`. To do this, follow the steps described below.\n",
        "\n",
        "\n",
        "\n"
      ]
    },
    {
      "cell_type": "code",
      "metadata": {
        "id": "mROhcvIy0ML6",
        "colab": {
          "base_uri": "https://localhost:8080/"
        },
        "outputId": "d3100db8-cca3-438b-8775-c8d225f9924c"
      },
      "source": [
        "# The 'new_user()' function to add a new user to the 'cust_data' dictionary. \n",
        "import random\n",
        "\n",
        "def new_user():\n",
        "  # Step 1: Create a random five-digit account number and store it in 'acc_num' variable\n",
        "  acc_num = random.randint(10000,99999)   # Write your code here\n",
        "  while acc_num  in cust_data.keys() :\n",
        "    acc_num=random.randint(10000,99999)\n",
        "  # Step 2: Create an empty list and store it in the 'new_user_inputs' variable.\n",
        "  # Write your code here\n",
        "  new_user_inputs=[]\n",
        "\n",
        "  # Step 3: Prompting the user to enter all of their required details one-by-one and add them to the list new_user_input.\n",
        "  for i in range(len(new_user_attributes)):\n",
        "    user_input = input(\"Enter \" + new_user_attributes[i] + \":\\n\")\n",
        "    if new_user_attributes[i] == 'amount':\n",
        "      new_user_inputs.append(int(user_input))\n",
        "    else:\n",
        "      new_user_inputs.append(user_input)\n",
        "\n",
        "  # Step 4: Creating a dictionary for the new user and add it to the cust_data dictionary.\n",
        "  cust_data[acc_num] = dict(zip(new_user_attributes, new_user_inputs))\n",
        "\n",
        "  # Step 5: Display the message on successfull account creation to the user.\n",
        "  # Write your code here\n",
        "  print('\\nyour detais added successfully.\\nuser number is ',acc_num,'\\nplease donot lose it ')\n",
        "new_user()\n",
        "cust_data"
      ],
      "execution_count": 3,
      "outputs": [
        {
          "output_type": "stream",
          "name": "stdout",
          "text": [
            "Enter name:\n",
            "ABC\n",
            "Enter address:\n",
            "SALEM\n",
            "Enter phone num:\n",
            "12345\n",
            "Enter govt id:\n",
            "23\n",
            "Enter amount:\n",
            "2000005\n",
            "\n",
            "your detais added successfully.\n",
            "user number is  94516 \n",
            "please donot lose it \n"
          ]
        },
        {
          "output_type": "execute_result",
          "data": {
            "text/plain": [
              "{94516: {'name': 'ABC',\n",
              "  'address': 'SALEM',\n",
              "  'phone num': '12345',\n",
              "  'govt id': '23',\n",
              "  'amount': 2000005}}"
            ]
          },
          "metadata": {},
          "execution_count": 3
        }
      ]
    },
    {
      "cell_type": "markdown",
      "metadata": {
        "id": "aJJT0ojPGPcd"
      },
      "source": [
        "---"
      ]
    },
    {
      "cell_type": "markdown",
      "metadata": {
        "id": "rZsDogK8LaOW"
      },
      "source": [
        "#### 3. Existing User\n",
        "\n",
        "The function to get the account details of an existing user from the `cust_data` dictionary. Name the function as `existing_user()`. To do this, follow the steps described below.\n",
        "\n",
        "\n",
        " "
      ]
    },
    {
      "cell_type": "code",
      "metadata": {
        "id": "8HV3cY6O9LeE",
        "colab": {
          "base_uri": "https://localhost:8080/"
        },
        "outputId": "841b888a-ac25-4b62-9410-36072e742a36"
      },
      "source": [
        "# The 'existing_user()' function to get the account details of an existing user from the 'cust_data' dictionary.\n",
        "def existing_user():\n",
        "  # Step 1: Ask the user to enter the existing account number and store it as an integer.\n",
        "  acc_num =int(input(\"enter your acc num:\"))  # Write your code here\n",
        "  while acc_num not in cust_data:\n",
        "    acc_num = int(input(\"Not found. Please enter your correct account number:\\n\"))\n",
        "    \n",
        "  # Step 2: Print the welcome message to the user.\n",
        "  # Write your code here\n",
        "  print(\"\\nWelcome\",cust_data[acc_num]['name'],'\\n')\n",
        "  print(\"Enter 1 to check your balance.\\nEnter 2 to withdraw an amount.\\nEnter 3 to deposit an amount.\")\n",
        "\n",
        "  # Step 3: Asking the user to select a valid choice. \n",
        "  user_choice = input()\n",
        "  while user_choice not in ['1','2','3']:\n",
        "    print(\"\\nInvalid input!\")\n",
        "    print(\"Enter 1 to check your balance.\\nEnter 2 to withdraw an amount.\\nEnter 3 to deposit an amount.\")\n",
        "    user_choice = input()\n",
        "  \n",
        "  # Step 4:\n",
        "  # If 'user_choice == 1' then display the account balance i.e. 'cust_data[acc_num]['amount']'\n",
        "  if user_choice == '1':\n",
        "    # Write your code here  \n",
        "    print('\\nAvailable balance:',cust_data[acc_num]['amount'])\n",
        "      \n",
        "  # Else if 'user_choice == 2' then subtract the withdrawal amount from the available balance.\n",
        "  elif user_choice == '2':\n",
        "    amt = int(input(\"\\nEnter the amount to be withdrawn:\\n\"))\n",
        "    if amt > cust_data[acc_num]['amount']:\n",
        "      print(\"\\nInsufficient balance.\\nAvailable balance:\", cust_data[acc_num]['amount'])\n",
        "    else:\n",
        "      new_amt = int(cust_data[acc_num]['amount']) - amt\n",
        "      cust_data[acc_num]['amount'] = new_amt\n",
        "      print(\"\\nWithdrawal successful.\\nAvailable Balance:\", cust_data[acc_num]['amount'])\n",
        "\n",
        "  # Else if 'user_choice == 3' then add the deposit amount to the available balance.\n",
        "  elif user_choice == '3':\n",
        "    amt = int(input(\"\\nEnter the amount to be deposited:\\n\"))\n",
        "    new_amt = int(cust_data[acc_num]['amount']) + amt\n",
        "    cust_data[acc_num]['amount'] = new_amt\n",
        "    print(\"\\nDeposit successful.\\nAvailable Balance:\", cust_data[acc_num]['amount'])\n",
        "\n",
        "existing_user()"
      ],
      "execution_count": 4,
      "outputs": [
        {
          "output_type": "stream",
          "name": "stdout",
          "text": [
            "enter your acc num:94516\n",
            "\n",
            "Welcome ABC \n",
            "\n",
            "Enter 1 to check your balance.\n",
            "Enter 2 to withdraw an amount.\n",
            "Enter 3 to deposit an amount.\n",
            "1\n",
            "\n",
            "Available balance: 2000005\n"
          ]
        }
      ]
    },
    {
      "cell_type": "markdown",
      "metadata": {
        "id": "gdgW4-R6LVB3"
      },
      "source": [
        "---"
      ]
    },
    {
      "cell_type": "markdown",
      "metadata": {
        "id": "NyHSsEwEoEvH"
      },
      "source": [
        "#### 4. Infinite `while` Loop \n",
        "\n",
        "Finally, create an infinite `while` loop to run the application. Inside the loop:\n",
        "\n",
        " "
      ]
    },
    {
      "cell_type": "code",
      "metadata": {
        "id": "-QAIIkM1qCNr",
        "colab": {
          "base_uri": "https://localhost:8080/"
        },
        "outputId": "bb0f14dd-729c-42bd-f972-997fcb57e52b"
      },
      "source": [
        "# Create an infinite while loop to run the application.\n",
        "while True:\n",
        "  valid_inputs = ['1','2','3']\n",
        "  print(\"Welcome to the Horizon Bank!\")\n",
        "  print(\"\\nEnter 1 if you are a new customer.\\nEnter 2 if you are an existing customer.\\nEnter 3 to terminate the application.\") \n",
        "\n",
        "  user_choice = input()\n",
        "  while user_choice not in ['1','2','3']:\n",
        "    print(\"Invalid input!\")\n",
        "    print(\"Enter 1 if you are a new customer.\\nEnter 2 if you are an existing customer.\\nEnter 3 to terminate the application.\\n\")\n",
        "    user_choice = input()\n",
        "\n",
        "  # If the user enters 1, then call the 'new_user()' function (to create a new account for the user and get their personal details).\n",
        "  # Write your code here\n",
        "  if user_choice =='1':\n",
        "    new_user()\n",
        "    print('Thankyou for banking with us')\n",
        "    break\n",
        "\n",
        "  # Else If the user enters 2, then call the 'existing_user()' function.\n",
        "  # Write your code here\n",
        "  elif user_choice=='2':\n",
        "    existing_user()\n",
        "    print('Thankyou for banking with us')\n",
        "    break\n",
        "\n",
        "  # Else If the user enters 3, then terminate the application with the 'Thank you, for banking with us!' message. \n",
        "  # Write your code here\n",
        "  elif user_choice=='3':\n",
        "    print('Thankyou for banking with us')\n",
        "    break\n",
        "\n",
        "existing_user()\n"
      ],
      "execution_count": 6,
      "outputs": [
        {
          "output_type": "stream",
          "name": "stdout",
          "text": [
            "Welcome to the Horizon Bank!\n",
            "\n",
            "Enter 1 if you are a new customer.\n",
            "Enter 2 if you are an existing customer.\n",
            "Enter 3 to terminate the application.\n",
            "2\n",
            "enter your acc num:94516\n",
            "\n",
            "Welcome ABC \n",
            "\n",
            "Enter 1 to check your balance.\n",
            "Enter 2 to withdraw an amount.\n",
            "Enter 3 to deposit an amount.\n",
            "2\n",
            "\n",
            "Enter the amount to be withdrawn:\n",
            "1000\n",
            "\n",
            "Withdrawal successful.\n",
            "Available Balance: 2000235\n",
            "Thankyou for banking with us\n",
            "enter your acc num:94516\n",
            "\n",
            "Welcome ABC \n",
            "\n",
            "Enter 1 to check your balance.\n",
            "Enter 2 to withdraw an amount.\n",
            "Enter 3 to deposit an amount.\n",
            "1\n",
            "\n",
            "Available balance: 2000235\n"
          ]
        }
      ]
    },
    {
      "cell_type": "markdown",
      "metadata": {
        "id": "4qIsQMIj-Is3"
      },
      "source": [
        "---"
      ]
    },
    {
      "cell_type": "markdown",
      "metadata": {
        "id": "fZV1ZSS5CuTq"
      },
      "source": [
        "---"
      ]
    }
  ]
}